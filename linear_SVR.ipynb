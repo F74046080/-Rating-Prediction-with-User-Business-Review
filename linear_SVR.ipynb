{
 "cells": [
  {
   "cell_type": "code",
   "execution_count": 1,
   "metadata": {},
   "outputs": [
    {
     "name": "stdout",
     "output_type": "stream",
     "text": [
      "   review_id  business_id  user_id  \\\n",
      "0       3223         2055     2533   \n",
      "1       9938         4165     6371   \n",
      "2       7123          869     4929   \n",
      "3       3601         1603     2789   \n",
      "4       3948         2347     1245   \n",
      "\n",
      "                                                text        date  stars  \n",
      "0  Sometimes things happen, and when they do this...  2010-12-30      5  \n",
      "1  I know Kerrie through my networking and we ben...  2011-04-26      5  \n",
      "2  Love their pizza!!!\\r\\nVery fresh. Their canno...  2012-09-28      5  \n",
      "3  Being from NJ I am always on the prowl for my ...  2009-06-07      4  \n",
      "4  We have tried this spot a few times and each v...  2011-02-20      4  \n"
     ]
    }
   ],
   "source": [
    "import pandas as pd\n",
    "import numpy as np\n",
    "\n",
    "df = pd.read_csv('training_data.csv')\n",
    "test = pd.read_csv('test_data.csv')\n",
    "#print(test)\n",
    "print(df.head(5))\n",
    "outid = test['review_id'].values # dataframe to numpy\n",
    "#print(outid.T)\n",
    "#print(len(outid))\n",
    "train = df"
   ]
  },
  {
   "cell_type": "code",
   "execution_count": 2,
   "metadata": {},
   "outputs": [
    {
     "name": "stderr",
     "output_type": "stream",
     "text": [
      "C:\\Users\\USER\\Anaconda3\\lib\\site-packages\\ipykernel_launcher.py:17: FutureWarning: Method .as_matrix will be removed in a future version. Use .values instead.\n"
     ]
    },
    {
     "name": "stdout",
     "output_type": "stream",
     "text": [
      "0.907307738700597\n"
     ]
    }
   ],
   "source": [
    "from sklearn.svm import LinearSVR\n",
    "from sklearn.feature_extraction.text import CountVectorizer\n",
    "from sklearn.feature_extraction.text import TfidfVectorizer\n",
    "\n",
    "X_train = df.drop(['review_id','business_id','user_id','date'], axis=1) \n",
    "\n",
    "'''\n",
    "vectorizer = CountVectorizer()\n",
    "vectorizer.fit(train['text'])\n",
    "'''\n",
    "\n",
    "vectorizer = TfidfVectorizer(ngram_range=[1,3],max_df = 2000)#,min_df = 0.01)#,stop_words=\"english\",min_df = 0.009) \n",
    "vectorizer.fit(train['text'])\n",
    "\n",
    "X_train = vectorizer.transform(train['text'])\n",
    "X_test = vectorizer.transform(test['text'])\n",
    "y_train = train['stars'].as_matrix()\n",
    "\n",
    "clf = LinearSVR() # default = 1000\n",
    "clf = clf.fit(X_train, y_train)\n",
    "pred_y = clf.predict(X_test)\n",
    "\n",
    "print(clf.score(X_train, y_train))\n",
    "\n",
    "for i in range(0,len(pred_y)):\n",
    "    if(pred_y[i]>5):\n",
    "        pred_y[i] = 5.0\n",
    "    elif(pred_y[i]<1):\n",
    "        pred_y[i] = 1.0\n",
    "    else:\n",
    "        pred_y[i] = round(pred_y[i],2)\n",
    "        \n",
    "output = np.vstack((outid,pred_y)).T\n",
    "output = pd.DataFrame(output,columns=['user_id','stars'])\n",
    "output['user_id'] = output['user_id'].astype(int)\n",
    "np.savetxt(\"L_SVR2.csv\", output, fmt='%i, %1.4f', delimiter=\",\")\n"
   ]
  }
 ],
 "metadata": {
  "kernelspec": {
   "display_name": "Python 3",
   "language": "python",
   "name": "python3"
  },
  "language_info": {
   "codemirror_mode": {
    "name": "ipython",
    "version": 3
   },
   "file_extension": ".py",
   "mimetype": "text/x-python",
   "name": "python",
   "nbconvert_exporter": "python",
   "pygments_lexer": "ipython3",
   "version": "3.6.5"
  }
 },
 "nbformat": 4,
 "nbformat_minor": 2
}

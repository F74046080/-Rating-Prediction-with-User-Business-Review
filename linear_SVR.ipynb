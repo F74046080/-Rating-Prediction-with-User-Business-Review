{
 "cells": [
  {
   "cell_type": "code",
   "execution_count": 2,
   "metadata": {},
   "outputs": [],
   "source": [
    "import pandas as pd\n",
    "import numpy as np\n",
    "\n",
    "df = pd.read_csv('training_data.csv')\n",
    "test = pd.read_csv('test_data.csv')\n",
    "#print(test)\n",
    "#print(df)\n",
    "outid = test['review_id'].values # dataframe to numpy\n",
    "#print(outid.T)\n",
    "#print(len(outid))\n",
    "train = df"
   ]
  },
  {
   "cell_type": "code",
   "execution_count": 66,
   "metadata": {},
   "outputs": [
    {
     "name": "stdout",
     "output_type": "stream",
     "text": [
      "0.7723181541946491\n"
     ]
    }
   ],
   "source": [
    "from sklearn.svm import LinearSVR\n",
    "from sklearn.feature_extraction.text import CountVectorizer\n",
    "from sklearn.feature_extraction.text import TfidfVectorizer\n",
    "\n",
    "X_train = df.drop(['review_id','business_id','user_id','date'], axis=1) \n",
    "\n",
    "'''\n",
    "vectorizer = CountVectorizer()\n",
    "vectorizer.fit(train['text'])\n",
    "'''\n",
    "\n",
    "vectorizer = TfidfVectorizer()#stop_words=\"english\",min_df = 0.009) \n",
    "vectorizer.fit(train['text'])\n",
    "\n",
    "X_train = vectorizer.transform(train['text'])\n",
    "X_test = vectorizer.transform(test['text'])\n",
    "y_train = train['stars'].as_matrix()\n",
    "\n",
    "clf = LinearSVR() # default = 1000\n",
    "clf = clf.fit(X_train, y_train)\n",
    "pred_y = clf.predict(X_test)\n",
    "\n",
    "print(clf.score(X_train, y_train))\n",
    "\n",
    "for i in range(0,len(pred_y)):\n",
    "    if(pred_y[i]>5):\n",
    "        pred_y[i] = 5.0\n",
    "    elif(pred_y[i]<1):\n",
    "        pred_y[i] = 1.0\n",
    "    else:\n",
    "        pred_y[i] = round(pred_y[i],2)\n",
    "        \n",
    "output = np.vstack((outid,pred_y)).T\n",
    "output = pd.DataFrame(output,columns=['user_id','stars'])\n",
    "output['user_id'] = output['user_id'].astype(int)\n",
    "np.savetxt(\"L_SVR.csv\", output, fmt='%i, %1.4f', delimiter=\",\")\n"
   ]
  },
  {
   "cell_type": "code",
   "execution_count": null,
   "metadata": {},
   "outputs": [],
   "source": []
  }
 ],
 "metadata": {
  "kernelspec": {
   "display_name": "Python 3",
   "language": "python",
   "name": "python3"
  },
  "language_info": {
   "codemirror_mode": {
    "name": "ipython",
    "version": 3
   },
   "file_extension": ".py",
   "mimetype": "text/x-python",
   "name": "python",
   "nbconvert_exporter": "python",
   "pygments_lexer": "ipython3",
   "version": "3.6.4"
  }
 },
 "nbformat": 4,
 "nbformat_minor": 2
}

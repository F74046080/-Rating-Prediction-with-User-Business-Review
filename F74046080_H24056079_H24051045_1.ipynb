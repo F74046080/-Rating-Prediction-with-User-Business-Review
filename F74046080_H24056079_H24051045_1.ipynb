{
 "cells": [
  {
   "cell_type": "code",
   "execution_count": 5,
   "metadata": {},
   "outputs": [],
   "source": [
    "import pandas as pd\n",
    "import numpy as np\n",
    "from sklearn.feature_extraction.text import CountVectorizer\n",
    "from sklearn.feature_extraction.text import TfidfVectorizer\n",
    "\n",
    "df = pd.read_csv('training_data.csv')\n",
    "test = pd.read_csv('test_data.csv')\n",
    "#print(test)\n",
    "#print(df)\n",
    "outid = test['review_id'].values # dataframe to numpy\n",
    "#print(outid.T)\n",
    "#print(len(outid))\n",
    "train = df"
   ]
  },
  {
   "cell_type": "code",
   "execution_count": 6,
   "metadata": {},
   "outputs": [
    {
     "name": "stdout",
     "output_type": "stream",
     "text": [
      "0.9707390271351757\n"
     ]
    }
   ],
   "source": [
    "from sklearn.svm import LinearSVC\n",
    "\n",
    "X_train = df.drop(['review_id','business_id','user_id','date'], axis=1) \n",
    "\n",
    "# use tfidf \n",
    "vectorizer = TfidfVectorizer()#stop_words=\"english\",min_df = 0.01) \n",
    "vectorizer.fit(train['text'])\n",
    "\n",
    "X_train = vectorizer.transform(train['text'])\n",
    "X_test = vectorizer.transform(test['text'])\n",
    "y_train = train['stars'].as_matrix()\n",
    "\n",
    "# use the linearSVC model\n",
    "clf = LinearSVC() # default = 1000\n",
    "clf = clf.fit(X_train, y_train)\n",
    "pred_y = clf.predict(X_test)\n",
    "\n",
    "ans1 = pred_y\n",
    "print(clf.score(X_train, y_train))"
   ]
  },
  {
   "cell_type": "code",
   "execution_count": 7,
   "metadata": {},
   "outputs": [
    {
     "name": "stdout",
     "output_type": "stream",
     "text": [
      "0.9087621043235661\n"
     ]
    }
   ],
   "source": [
    "from sklearn.svm import LinearSVR\n",
    "\n",
    "# set ngram the 1 to 3 combine words will be counted \n",
    "vectorizer = TfidfVectorizer(ngram_range=[1,3])#,max_df = 2000)#,min_df = 0.01)#,stop_words=\"english\",min_df = 0.009) \n",
    "vectorizer.fit(train['text'])\n",
    "\n",
    "X_train = vectorizer.transform(train['text'])\n",
    "X_test = vectorizer.transform(test['text'])\n",
    "y_train = train['stars'].as_matrix()\n",
    "\n",
    "# use linearSVR model\n",
    "clf2 = LinearSVR() # default = 1000\n",
    "clf2 = clf2.fit(X_train, y_train)\n",
    "pred_y = clf2.predict(X_test)\n",
    "\n",
    "print(clf2.score(X_train, y_train))\n",
    "\n",
    "# cause the linearSVR model is linear so the answer will out of range(1 to 5) \n",
    "# set the answer which is more than 5 to 5\n",
    "for i in range(0,len(pred_y)):\n",
    "    if(pred_y[i]>5):\n",
    "        pred_y[i] = 5.0\n",
    "    elif(pred_y[i]<1):\n",
    "        pred_y[i] = 1.0\n",
    "    else:\n",
    "        pred_y[i] = round(pred_y[i],2)\n",
    "\n",
    "ans2 = pred_y"
   ]
  },
  {
   "cell_type": "code",
   "execution_count": 9,
   "metadata": {},
   "outputs": [],
   "source": [
    "# answer 0.80710.5042\n",
    "\n",
    "# get the answer from linearSVC & linearSVR\n",
    "# set the weighted 3:8\n",
    "new = (ans1*3+ans2*8)/11\n",
    "\n",
    "# to get the lower RMSE & higher accuracy\n",
    "# reshape the range of the answer to 1.5~4.6 (not 1~5)\n",
    "for i in range(0,len(new)):\n",
    "    if(new[i]>=4.5):#4.4\n",
    "        new[i] = 4.6\n",
    "    elif(new[i]<1.5):\n",
    "        new[i] = 1.5\n",
    "    else:\n",
    "        new[i] = round(new[i],3)\n",
    "\n",
    "output = np.vstack((outid,new)).T\n",
    "output = pd.DataFrame(output,columns=['user_id','stars'])\n",
    "output['user_id'] = output['user_id'].astype(int)\n",
    "\n",
    "# the answer is stored in the answer.csv\n",
    "np.savetxt(\"answer.csv\", output, fmt='%i, %1.4f', delimiter=\",\")"
   ]
  },
  {
   "cell_type": "code",
   "execution_count": null,
   "metadata": {},
   "outputs": [],
   "source": []
  }
 ],
 "metadata": {
  "kernelspec": {
   "display_name": "Python 3",
   "language": "python",
   "name": "python3"
  },
  "language_info": {
   "codemirror_mode": {
    "name": "ipython",
    "version": 3
   },
   "file_extension": ".py",
   "mimetype": "text/x-python",
   "name": "python",
   "nbconvert_exporter": "python",
   "pygments_lexer": "ipython3",
   "version": "3.6.4"
  }
 },
 "nbformat": 4,
 "nbformat_minor": 2
}

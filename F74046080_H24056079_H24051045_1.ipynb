{
 "cells": [
  {
   "cell_type": "code",
   "execution_count": 1,
   "metadata": {},
   "outputs": [
    {
     "name": "stdout",
     "output_type": "stream",
     "text": [
      "   review_id  business_id  user_id  \\\n",
      "0       2713          668     2196   \n",
      "1       4734         1014     3521   \n",
      "2       5598         2939     3028   \n",
      "3       9545         4077     6200   \n",
      "4       1471         1126     1268   \n",
      "\n",
      "                                                text        date  \n",
      "0  Ticoz is not a bad place.  The menu is eclecti...  2009-01-04  \n",
      "1  Wow!\\r\\nBeing a Phoenix native, we have enjoye...  2010-10-05  \n",
      "2  Jodi is fantastic!  Extraordinary!  After too ...  2011-04-29  \n",
      "3  T&S Glass did a wonderful job replacing my car...  2007-10-02  \n",
      "4  My experience was on a random Saturday afterno...  2010-08-16  \n",
      "   review_id  business_id  user_id  \\\n",
      "0       3223         2055     2533   \n",
      "1       9938         4165     6371   \n",
      "2       7123          869     4929   \n",
      "3       3601         1603     2789   \n",
      "4       3948         2347     1245   \n",
      "\n",
      "                                                text        date  stars  \n",
      "0  Sometimes things happen, and when they do this...  2010-12-30      5  \n",
      "1  I know Kerrie through my networking and we ben...  2011-04-26      5  \n",
      "2  Love their pizza!!!\\r\\nVery fresh. Their canno...  2012-09-28      5  \n",
      "3  Being from NJ I am always on the prowl for my ...  2009-06-07      4  \n",
      "4  We have tried this spot a few times and each v...  2011-02-20      4  \n"
     ]
    }
   ],
   "source": [
    "import pandas as pd\n",
    "import numpy as np\n",
    "from sklearn.feature_extraction.text import CountVectorizer\n",
    "from sklearn.feature_extraction.text import TfidfVectorizer\n",
    "\n",
    "df = pd.read_csv('training_data.csv')\n",
    "test = pd.read_csv('test_data.csv')\n",
    "print(test.head(5))\n",
    "print(df.head(5))\n",
    "outid = test['review_id'].values # dataframe to numpy\n",
    "#print(outid.T)\n",
    "#print(len(outid))\n",
    "train = df"
   ]
  },
  {
   "cell_type": "code",
   "execution_count": 2,
   "metadata": {},
   "outputs": [
    {
     "name": "stderr",
     "output_type": "stream",
     "text": [
      "C:\\Users\\USER\\Anaconda3\\lib\\site-packages\\ipykernel_launcher.py:11: FutureWarning: Method .as_matrix will be removed in a future version. Use .values instead.\n",
      "  # This is added back by InteractiveShellApp.init_path()\n"
     ]
    },
    {
     "name": "stdout",
     "output_type": "stream",
     "text": [
      "0.9707390271351757\n"
     ]
    }
   ],
   "source": [
    "from sklearn.svm import LinearSVC\n",
    "\n",
    "X_train = df.drop(['review_id','business_id','user_id','date'], axis=1) \n",
    "\n",
    "# use tfidf \n",
    "vectorizer = TfidfVectorizer()#stop_words=\"english\",min_df = 0.01) \n",
    "vectorizer.fit(train['text'])\n",
    "\n",
    "X_train = vectorizer.transform(train['text'])\n",
    "X_test = vectorizer.transform(test['text'])\n",
    "y_train = train['stars'].as_matrix()\n",
    "\n",
    "# use the linearSVC model\n",
    "clf = LinearSVC() # default = 1000\n",
    "clf = clf.fit(X_train, y_train)\n",
    "pred_y = clf.predict(X_test)\n",
    "\n",
    "ans1 = pred_y\n",
    "print(clf.score(X_train, y_train))"
   ]
  },
  {
   "cell_type": "code",
   "execution_count": 3,
   "metadata": {},
   "outputs": [
    {
     "name": "stderr",
     "output_type": "stream",
     "text": [
      "C:\\Users\\USER\\Anaconda3\\lib\\site-packages\\ipykernel_launcher.py:9: FutureWarning: Method .as_matrix will be removed in a future version. Use .values instead.\n",
      "  if __name__ == '__main__':\n"
     ]
    },
    {
     "name": "stdout",
     "output_type": "stream",
     "text": [
      "0.9087612666839255\n"
     ]
    }
   ],
   "source": [
    "from sklearn.svm import LinearSVR\n",
    "\n",
    "# set ngram the 1 to 3 combine words will be counted \n",
    "vectorizer = TfidfVectorizer(ngram_range=[1,3])#,max_df = 2000)#,min_df = 0.01)#,stop_words=\"english\",min_df = 0.009) \n",
    "vectorizer.fit(train['text'])\n",
    "\n",
    "X_train = vectorizer.transform(train['text'])\n",
    "X_test = vectorizer.transform(test['text'])\n",
    "y_train = train['stars'].as_matrix()\n",
    "\n",
    "# use linearSVR model\n",
    "clf2 = LinearSVR() # default = 1000\n",
    "clf2 = clf2.fit(X_train, y_train)\n",
    "pred_y = clf2.predict(X_test)\n",
    "\n",
    "print(clf2.score(X_train, y_train))\n",
    "\n",
    "# cause the linearSVR model is linear so the answer will out of range(1 to 5) \n",
    "# set the answer which is more than 5 to 5\n",
    "for i in range(0,len(pred_y)):\n",
    "    if(pred_y[i]>5):\n",
    "        pred_y[i] = 5.0\n",
    "    elif(pred_y[i]<1):\n",
    "        pred_y[i] = 1.0\n",
    "    else:\n",
    "        pred_y[i] = round(pred_y[i],2)\n",
    "\n",
    "ans2 = pred_y"
   ]
  },
  {
   "cell_type": "code",
   "execution_count": 4,
   "metadata": {},
   "outputs": [],
   "source": [
    "# answer 0.80710.5042\n",
    "\n",
    "# get the answer from linearSVC & linearSVR\n",
    "# set the weighted 3:8\n",
    "new = (ans1*3+ans2*8)/11\n",
    "\n",
    "# to get the lower RMSE & higher accuracy\n",
    "# reshape the range of the answer to 1.5~4.6 (not 1~5)\n",
    "for i in range(0,len(new)):\n",
    "    if(new[i]>=4.5):#4.4\n",
    "        new[i] = 4.6\n",
    "    elif(new[i]<1.5):\n",
    "        new[i] = 1.5\n",
    "    else:\n",
    "        new[i] = round(new[i],3)\n",
    "\n",
    "output = np.vstack((outid,new)).T\n",
    "output = pd.DataFrame(output,columns=['user_id','stars'])\n",
    "output['user_id'] = output['user_id'].astype(int)\n",
    "\n",
    "# the answer is stored in the answer.csv\n",
    "np.savetxt(\"answer.csv\", output, fmt='%i, %1.4f', delimiter=\",\")"
   ]
  },
  {
   "cell_type": "code",
   "execution_count": 5,
   "metadata": {},
   "outputs": [
    {
     "name": "stdout",
     "output_type": "stream",
     "text": [
      "   user_id  stars\n",
      "0     2713  3.269\n",
      "1     4734  4.600\n",
      "2     5598  4.600\n",
      "3     9545  4.600\n",
      "4     1471  2.796\n"
     ]
    }
   ],
   "source": [
    "print(output.head(5))"
   ]
  }
 ],
 "metadata": {
  "kernelspec": {
   "display_name": "Python 3",
   "language": "python",
   "name": "python3"
  },
  "language_info": {
   "codemirror_mode": {
    "name": "ipython",
    "version": 3
   },
   "file_extension": ".py",
   "mimetype": "text/x-python",
   "name": "python",
   "nbconvert_exporter": "python",
   "pygments_lexer": "ipython3",
   "version": "3.6.5"
  }
 },
 "nbformat": 4,
 "nbformat_minor": 2
}

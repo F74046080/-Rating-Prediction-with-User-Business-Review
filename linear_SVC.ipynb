{
 "cells": [
  {
   "cell_type": "markdown",
   "metadata": {},
   "source": [
    "# Load data"
   ]
  },
  {
   "cell_type": "code",
   "execution_count": 1,
   "metadata": {},
   "outputs": [],
   "source": [
    "import pandas as pd\n",
    "import numpy as np\n",
    "from sklearn.feature_extraction.text import CountVectorizer\n",
    "from sklearn.feature_extraction.text import TfidfVectorizer\n",
    "\n",
    "df = pd.read_csv('training_data.csv')\n",
    "test = pd.read_csv('test_data.csv')\n",
    "#print(test)\n",
    "#print(df)\n",
    "outid = test['review_id'].values # dataframe to numpy\n",
    "#print(outid.T)\n",
    "#print(len(outid))\n",
    "train = df"
   ]
  },
  {
   "cell_type": "markdown",
   "metadata": {},
   "source": [
    "# Use linearSVC"
   ]
  },
  {
   "cell_type": "code",
   "execution_count": 2,
   "metadata": {},
   "outputs": [
    {
     "name": "stderr",
     "output_type": "stream",
     "text": [
      "C:\\Users\\USER\\Anaconda3\\lib\\site-packages\\ipykernel_launcher.py:15: FutureWarning: Method .as_matrix will be removed in a future version. Use .values instead.\n",
      "  from ipykernel import kernelapp as app\n"
     ]
    },
    {
     "name": "stdout",
     "output_type": "stream",
     "text": [
      "0.9707390271351757\n"
     ]
    }
   ],
   "source": [
    "from sklearn.svm import LinearSVC\n",
    "\n",
    "X_train = df.drop(['review_id','business_id','user_id','date'], axis=1) \n",
    "\n",
    "'''\n",
    "vectorizer = CountVectorizer()\n",
    "vectorizer.fit(train['text'])\n",
    "'''\n",
    "\n",
    "vectorizer = TfidfVectorizer()#stop_words=\"english\",min_df = 0.01) \n",
    "vectorizer.fit(train['text'])\n",
    "\n",
    "X_train = vectorizer.transform(train['text'])\n",
    "X_test = vectorizer.transform(test['text'])\n",
    "y_train = train['stars'].as_matrix()\n",
    "\n",
    "clf = LinearSVC() # default = 1000\n",
    "clf = clf.fit(X_train, y_train)\n",
    "pred_y = clf.predict(X_test)\n",
    "\n",
    "print(clf.score(X_train, y_train))\n",
    "\n",
    "output = np.vstack((outid,pred_y)).T\n",
    "output = pd.DataFrame(output,columns=['user_id','stars'])\n",
    "np.savetxt(\"L_SVC.csv\", output, fmt='%s,', delimiter=\",\")"
   ]
  },
  {
   "cell_type": "markdown",
   "metadata": {},
   "source": [
    "# Use cross validation"
   ]
  },
  {
   "cell_type": "code",
   "execution_count": 3,
   "metadata": {},
   "outputs": [
    {
     "data": {
      "text/plain": [
       "array([0.499375, 0.499375, 0.5225  , 0.520625, 0.524375])"
      ]
     },
     "execution_count": 3,
     "metadata": {},
     "output_type": "execute_result"
    }
   ],
   "source": [
    "from sklearn.model_selection import ShuffleSplit\n",
    "from sklearn.model_selection import cross_val_score\n",
    "cv = ShuffleSplit(n_splits=5, test_size=.2)\n",
    "cross_val_score(clf, X_train, y_train, cv=cv)"
   ]
  }
 ],
 "metadata": {
  "kernelspec": {
   "display_name": "Python 3",
   "language": "python",
   "name": "python3"
  },
  "language_info": {
   "codemirror_mode": {
    "name": "ipython",
    "version": 3
   },
   "file_extension": ".py",
   "mimetype": "text/x-python",
   "name": "python",
   "nbconvert_exporter": "python",
   "pygments_lexer": "ipython3",
   "version": "3.6.5"
  }
 },
 "nbformat": 4,
 "nbformat_minor": 2
}

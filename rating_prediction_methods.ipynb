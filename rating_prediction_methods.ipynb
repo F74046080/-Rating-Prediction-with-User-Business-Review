{
 "cells": [
  {
   "cell_type": "markdown",
   "metadata": {},
   "source": [
    "# Load data"
   ]
  },
  {
   "cell_type": "code",
   "execution_count": 1,
   "metadata": {},
   "outputs": [
    {
     "name": "stdout",
     "output_type": "stream",
     "text": [
      "   review_id  business_id  user_id  \\\n",
      "0       2713          668     2196   \n",
      "1       4734         1014     3521   \n",
      "2       5598         2939     3028   \n",
      "3       9545         4077     6200   \n",
      "4       1471         1126     1268   \n",
      "\n",
      "                                                text        date  \n",
      "0  Ticoz is not a bad place.  The menu is eclecti...  2009-01-04  \n",
      "1  Wow!\\r\\nBeing a Phoenix native, we have enjoye...  2010-10-05  \n",
      "2  Jodi is fantastic!  Extraordinary!  After too ...  2011-04-29  \n",
      "3  T&S Glass did a wonderful job replacing my car...  2007-10-02  \n",
      "4  My experience was on a random Saturday afterno...  2010-08-16  \n",
      "   review_id  business_id  user_id  \\\n",
      "0       3223         2055     2533   \n",
      "1       9938         4165     6371   \n",
      "2       7123          869     4929   \n",
      "3       3601         1603     2789   \n",
      "4       3948         2347     1245   \n",
      "\n",
      "                                                text        date  stars  \n",
      "0  Sometimes things happen, and when they do this...  2010-12-30      5  \n",
      "1  I know Kerrie through my networking and we ben...  2011-04-26      5  \n",
      "2  Love their pizza!!!\\r\\nVery fresh. Their canno...  2012-09-28      5  \n",
      "3  Being from NJ I am always on the prowl for my ...  2009-06-07      4  \n",
      "4  We have tried this spot a few times and each v...  2011-02-20      4  \n"
     ]
    }
   ],
   "source": [
    "import pandas as pd\n",
    "import numpy as np\n",
    "\n",
    "df = pd.read_csv('training_data.csv')\n",
    "test = pd.read_csv('test_data.csv')\n",
    "print(test.head(5))\n",
    "print(df.head(5))\n",
    "outid = test['review_id'].values # dataframe to numpy\n",
    "#print(outid.T)\n",
    "#print(len(outid))\n",
    "train = df"
   ]
  },
  {
   "cell_type": "markdown",
   "metadata": {},
   "source": [
    "# Sum of the rating-star distribution in the test data"
   ]
  },
  {
   "cell_type": "code",
   "execution_count": 2,
   "metadata": {
    "scrolled": true
   },
   "outputs": [
    {
     "name": "stdout",
     "output_type": "stream",
     "text": [
      "4    2820\n",
      "5    2669\n",
      "3    1168\n",
      "2     741\n",
      "1     599\n",
      "Name: stars, dtype: int64\n"
     ]
    }
   ],
   "source": [
    "z = df.sort_values('stars')\n",
    "print(z['stars'].value_counts().head(10) )"
   ]
  },
  {
   "cell_type": "markdown",
   "metadata": {},
   "source": [
    "# Use Logistic Regression\n",
    "## Use count vectorizer"
   ]
  },
  {
   "cell_type": "code",
   "execution_count": 3,
   "metadata": {},
   "outputs": [
    {
     "name": "stderr",
     "output_type": "stream",
     "text": [
      "C:\\Users\\USER\\Anaconda3\\lib\\site-packages\\ipykernel_launcher.py:10: FutureWarning: Method .as_matrix will be removed in a future version. Use .values instead.\n",
      "  # Remove the CWD from sys.path while we load stuff.\n"
     ]
    },
    {
     "name": "stdout",
     "output_type": "stream",
     "text": [
      "26351\n",
      "0.9757409028385645\n"
     ]
    }
   ],
   "source": [
    "X_train = df.drop(['review_id','business_id','user_id','date'], axis=1)\n",
    "#X_test = test.drop(['review_id','business_id','user_id','date'], axis=1)\n",
    "\n",
    "from sklearn.feature_extraction.text import CountVectorizer\n",
    "from sklearn.linear_model import LogisticRegression\n",
    "vectorizer = CountVectorizer()\n",
    "vectorizer.fit(train['text'])\n",
    "\n",
    "#X_train = train.drop(['stars'],axis = 1).as_matrix()\n",
    "y_train = train['stars'].as_matrix()\n",
    "#X_test = test.drop(['stars'],axis = 1).as_matrix()\n",
    "\n",
    "X_train = vectorizer.transform(train['text'])\n",
    "X_test = vectorizer.transform(test['text'])\n",
    "print((len(vectorizer.vocabulary_)))\n",
    "\n",
    "clf = LogisticRegression()\n",
    "clf.fit(X_train,y_train)\n",
    "pred_y = clf.predict(X_test)\n",
    "\n",
    "print(clf.score(X_train, y_train))\n",
    "\n",
    "output = np.vstack((outid,pred_y)).T\n",
    "output = pd.DataFrame(output,columns=['user_id','stars'])\n",
    "np.savetxt(\"CV_LR.csv\", output, fmt='%s', delimiter=\",\")"
   ]
  },
  {
   "cell_type": "markdown",
   "metadata": {},
   "source": [
    "## Use tf-idf"
   ]
  },
  {
   "cell_type": "code",
   "execution_count": 4,
   "metadata": {},
   "outputs": [
    {
     "name": "stderr",
     "output_type": "stream",
     "text": [
      "C:\\Users\\USER\\Anaconda3\\lib\\site-packages\\ipykernel_launcher.py:10: FutureWarning: Method .as_matrix will be removed in a future version. Use .values instead.\n",
      "  # Remove the CWD from sys.path while we load stuff.\n"
     ]
    },
    {
     "name": "stdout",
     "output_type": "stream",
     "text": [
      "0.8035513317494061\n"
     ]
    }
   ],
   "source": [
    "from sklearn.feature_extraction.text import TfidfVectorizer\n",
    "\n",
    "X_train = df.drop(['review_id','business_id','user_id','date'], axis=1)\n",
    "\n",
    "vectorizer = TfidfVectorizer(ngram_range=(1,3))\n",
    "vectorizer.fit(train['text'])\n",
    "\n",
    "X_train = vectorizer.transform(train['text'])\n",
    "X_test = vectorizer.transform(test['text'])\n",
    "y_train = train['stars'].as_matrix()\n",
    "\n",
    "clf = LogisticRegression()\n",
    "clf.fit(X_train, y_train)\n",
    "\n",
    "pred_y = clf.predict(X_test)\n",
    "\n",
    "print(clf.score(X_train, y_train))\n",
    "\n",
    "output = np.vstack((outid,pred_y)).T\n",
    "output = pd.DataFrame(output,columns=['user_id','stars'])\n",
    "np.savetxt(\"Tfid_LR.csv\", output, fmt='%s', delimiter=\",\")"
   ]
  },
  {
   "cell_type": "markdown",
   "metadata": {},
   "source": [
    "# Use SGD classifier + tf-idf"
   ]
  },
  {
   "cell_type": "code",
   "execution_count": 5,
   "metadata": {},
   "outputs": [
    {
     "name": "stdout",
     "output_type": "stream",
     "text": [
      "0.7097661623108665\n"
     ]
    },
    {
     "name": "stderr",
     "output_type": "stream",
     "text": [
      "C:\\Users\\USER\\Anaconda3\\lib\\site-packages\\ipykernel_launcher.py:10: FutureWarning: Method .as_matrix will be removed in a future version. Use .values instead.\n",
      "  # Remove the CWD from sys.path while we load stuff.\n"
     ]
    }
   ],
   "source": [
    "from sklearn.linear_model import SGDClassifier\n",
    "\n",
    "X_train = df.drop(['review_id','business_id','user_id','date'], axis=1)\n",
    "\n",
    "vectorizer = TfidfVectorizer()\n",
    "vectorizer.fit(train['text'])\n",
    "\n",
    "X_train = vectorizer.transform(train['text'])\n",
    "X_test = vectorizer.transform(test['text'])\n",
    "y_train = train['stars'].as_matrix()\n",
    "\n",
    "clf = SGDClassifier(loss='hinge', penalty='l2',alpha=1e-3, random_state=42, max_iter=5, tol=None)\n",
    "clf = clf.fit(X_train, y_train)\n",
    "pred_y = clf.predict(X_test)\n",
    "\n",
    "print(clf.score(X_train, y_train))\n",
    "\n",
    "output = np.vstack((outid,pred_y)).T\n",
    "output = pd.DataFrame(output,columns=['user_id','stars'])\n",
    "np.savetxt(\"SGDC.csv\", output, fmt='%s', delimiter=\",\")"
   ]
  },
  {
   "cell_type": "markdown",
   "metadata": {},
   "source": [
    "# Use the pipeline (include CountVectorizer, TfidfTransformer, SGDClassifier)"
   ]
  },
  {
   "cell_type": "code",
   "execution_count": 6,
   "metadata": {},
   "outputs": [
    {
     "name": "stderr",
     "output_type": "stream",
     "text": [
      "C:\\Users\\USER\\Anaconda3\\lib\\site-packages\\ipykernel_launcher.py:13: FutureWarning: Method .as_matrix will be removed in a future version. Use .values instead.\n",
      "  del sys.path[0]\n"
     ]
    }
   ],
   "source": [
    "from sklearn.pipeline import Pipeline\n",
    "from sklearn.feature_extraction.text import TfidfTransformer\n",
    "\n",
    "X_train = df.drop(['review_id','business_id','user_id','date','stars'], axis=1)\n",
    "\n",
    "'''\n",
    "vectorizer = TfidfVectorizer()\n",
    "vectorizer.fit(train['text'])\n",
    "\n",
    "X_train = vectorizer.transform(train['text'])\n",
    "'''\n",
    "\n",
    "y_train = train['stars'].as_matrix()\n",
    "\n",
    "text_clf = Pipeline([('vect', CountVectorizer()),\n",
    "                      ('tfidf', TfidfTransformer()),\n",
    "                      ('clf', SGDClassifier(loss='hinge', penalty='l2',\n",
    "                                            alpha=1e-3, random_state=42,\n",
    "                                            max_iter=5, tol=None)),\n",
    " ])\n",
    "text_clf.fit(train['text'], y_train)\n",
    "pred_y = text_clf.predict(test['text'])\n",
    "\n",
    "output = np.vstack((outid,pred_y)).T\n",
    "output = pd.DataFrame(output,columns=['user_id','stars'])\n",
    "np.savetxt(\"Pipe.csv\", output, fmt='%s', delimiter=\",\")        \n"
   ]
  },
  {
   "cell_type": "markdown",
   "metadata": {},
   "source": [
    "# Use LinearSVC"
   ]
  },
  {
   "cell_type": "code",
   "execution_count": 7,
   "metadata": {},
   "outputs": [
    {
     "name": "stderr",
     "output_type": "stream",
     "text": [
      "C:\\Users\\USER\\Anaconda3\\lib\\site-packages\\ipykernel_launcher.py:10: FutureWarning: Method .as_matrix will be removed in a future version. Use .values instead.\n",
      "  # Remove the CWD from sys.path while we load stuff.\n"
     ]
    },
    {
     "name": "stdout",
     "output_type": "stream",
     "text": [
      "0.9707390271351757\n"
     ]
    }
   ],
   "source": [
    "from sklearn.svm import LinearSVC\n",
    "\n",
    "X_train = df.drop(['review_id','business_id','user_id','date'], axis=1)\n",
    "\n",
    "vectorizer = TfidfVectorizer()\n",
    "vectorizer.fit(train['text'])\n",
    "\n",
    "X_train = vectorizer.transform(train['text'])\n",
    "X_test = vectorizer.transform(test['text'])\n",
    "y_train = train['stars'].as_matrix()\n",
    "\n",
    "clf = LinearSVC()\n",
    "clf = clf.fit(X_train, y_train)\n",
    "pred_y = clf.predict(X_test)\n",
    "\n",
    "print(clf.score(X_train, y_train))\n",
    "\n",
    "output = np.vstack((outid,pred_y)).T\n",
    "output = pd.DataFrame(output,columns=['user_id','stars'])\n",
    "np.savetxt(\"L_SVC.csv\", output, fmt='%s', delimiter=\",\")"
   ]
  },
  {
   "cell_type": "markdown",
   "metadata": {},
   "source": [
    "# Use adaboost"
   ]
  },
  {
   "cell_type": "code",
   "execution_count": 8,
   "metadata": {},
   "outputs": [
    {
     "name": "stderr",
     "output_type": "stream",
     "text": [
      "C:\\Users\\USER\\Anaconda3\\lib\\site-packages\\sklearn\\cross_validation.py:41: DeprecationWarning: This module was deprecated in version 0.18 in favor of the model_selection module into which all the refactored classes and functions are moved. Also note that the interface of the new CV iterators are different from that of this module. This module will be removed in 0.20.\n",
      "  \"This module will be removed in 0.20.\", DeprecationWarning)\n",
      "C:\\Users\\USER\\Anaconda3\\lib\\site-packages\\ipykernel_launcher.py:10: FutureWarning: Method .as_matrix will be removed in a future version. Use .values instead.\n",
      "  # Remove the CWD from sys.path while we load stuff.\n"
     ]
    },
    {
     "name": "stdout",
     "output_type": "stream",
     "text": [
      "0.5256971364261598\n"
     ]
    }
   ],
   "source": [
    "from sklearn import cross_validation, ensemble, preprocessing, metrics\n",
    "\n",
    "X_train = df.drop(['review_id','business_id','user_id','date'], axis=1)\n",
    "\n",
    "vectorizer = TfidfVectorizer()\n",
    "vectorizer.fit(train['text'])\n",
    "\n",
    "X_train = vectorizer.transform(train['text'])\n",
    "X_test = vectorizer.transform(test['text'])\n",
    "y_train = train['stars'].as_matrix()\n",
    "\n",
    "clf = ensemble.AdaBoostClassifier(n_estimators = 200)\n",
    "clf = clf.fit(X_train, y_train)\n",
    "pred_y = clf.predict(X_test)\n",
    "\n",
    "print(clf.score(X_train, y_train))\n",
    "\n",
    "output = np.vstack((outid,pred_y)).T\n",
    "output = pd.DataFrame(output,columns=['user_id','stars'])\n",
    "np.savetxt(\"adaboost.csv\", output, fmt='%s', delimiter=\",\")"
   ]
  }
 ],
 "metadata": {
  "kernelspec": {
   "display_name": "Python 3",
   "language": "python",
   "name": "python3"
  },
  "language_info": {
   "codemirror_mode": {
    "name": "ipython",
    "version": 3
   },
   "file_extension": ".py",
   "mimetype": "text/x-python",
   "name": "python",
   "nbconvert_exporter": "python",
   "pygments_lexer": "ipython3",
   "version": "3.6.5"
  }
 },
 "nbformat": 4,
 "nbformat_minor": 2
}
